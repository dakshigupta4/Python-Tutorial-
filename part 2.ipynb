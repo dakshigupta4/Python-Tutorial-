{
 "cells": [
  {
   "cell_type": "markdown",
   "metadata": {},
   "source": [
    "# String\n",
    "\n",
    "Reserve keyword that is available in python"
   ]
  },
  {
   "cell_type": "code",
   "execution_count": 2,
   "metadata": {},
   "outputs": [
    {
     "name": "stdout",
     "output_type": "stream",
     "text": [
      "what is your name?My name is dakshi gupta\n",
      "My name is dakshi gupta\n"
     ]
    }
   ],
   "source": [
    "name=input(\"what is your name?\")\n",
    "print(name)"
   ]
  },
  {
   "cell_type": "code",
   "execution_count": 3,
   "metadata": {},
   "outputs": [
    {
     "name": "stdout",
     "output_type": "stream",
     "text": [
      "enter no. 1:22\n",
      "enter no. 2:44\n",
      "My output is : 66.0\n"
     ]
    }
   ],
   "source": [
    "a=float(input(\"enter no. 1:\"))\n",
    "b=float(input(\"enter no. 2:\"))\n",
    "c=a+b\n",
    "print(\"My output is :\",c)"
   ]
  },
  {
   "cell_type": "code",
   "execution_count": 1,
   "metadata": {},
   "outputs": [
    {
     "name": "stdout",
     "output_type": "stream",
     "text": [
      "What is your full name?My full name is Dakshi Gupta\n",
      "My full name is Dakshi Gupta\n"
     ]
    }
   ],
   "source": [
    "Name=input(\"What is your full name?\")\n",
    "print(Name)"
   ]
  },
  {
   "cell_type": "code",
   "execution_count": 2,
   "metadata": {},
   "outputs": [
    {
     "name": "stdout",
     "output_type": "stream",
     "text": [
      "enter no. 1:88\n",
      "enter no. 2:66\n",
      "My output is : 154.0\n"
     ]
    }
   ],
   "source": [
    "a=float(input(\"enter no. 1:\"))\n",
    "b=float(input(\"enter no. 2:\"))\n",
    "c=a+b\n",
    "print(\"My output is :\",c)"
   ]
  },
  {
   "cell_type": "code",
   "execution_count": 3,
   "metadata": {},
   "outputs": [
    {
     "name": "stdout",
     "output_type": "stream",
     "text": [
      "my first_name is dakshi and last_name is gupta\n"
     ]
    }
   ],
   "source": [
    "# we use {}- empty place holder \n",
    "first_name='dakshi' \n",
    "last_name='gupta'\n",
    "print(\"my first_name is {} and last_name is {}\".format(first_name,last_name))"
   ]
  },
  {
   "cell_type": "code",
   "execution_count": 9,
   "metadata": {},
   "outputs": [
    {
     "name": "stdout",
     "output_type": "stream",
     "text": [
      "not divisible by both\n"
     ]
    }
   ],
   "source": [
    "a=60\n",
    "b=70\n",
    "if a%7==0:\n",
    "    print(\"a is divisible by 7\")\n",
    "elif b%4==0:\n",
    "    print(\"b is divisible by 4\")\n",
    "else:\n",
    "    print(\"not divisible by both\")"
   ]
  },
  {
   "cell_type": "code",
   "execution_count": 12,
   "metadata": {},
   "outputs": [
    {
     "name": "stdout",
     "output_type": "stream",
     "text": [
      "not divisible by both a and b\n"
     ]
    }
   ],
   "source": [
    "a=20\n",
    "b=50\n",
    "if a%3==0:\n",
    "    print(\"a is divisible by 3\")\n",
    "elif b%3==0:\n",
    "    print(\"b is divisible by 3\")\n",
    "else:\n",
    "    print(\"not divisible by both a and b\")"
   ]
  },
  {
   "cell_type": "code",
   "execution_count": 7,
   "metadata": {},
   "outputs": [
    {
     "name": "stdout",
     "output_type": "stream",
     "text": [
      "not divisible by both\n"
     ]
    }
   ],
   "source": [
    "#if, elif,else statement\n",
    "a=10\n",
    "if a % 4==0:\n",
    "    print(\"a is divisible by 4\")\n",
    "elif a % 3==0:\n",
    "    print(\"a is divisible by 3\")\n",
    "else:\n",
    "    print(\"not divisible by both\")"
   ]
  },
  {
   "cell_type": "markdown",
   "metadata": {},
   "source": [
    "# Lists"
   ]
  },
  {
   "cell_type": "code",
   "execution_count": 14,
   "metadata": {},
   "outputs": [
    {
     "name": "stdout",
     "output_type": "stream",
     "text": [
      "dakshi\n"
     ]
    },
    {
     "data": {
      "text/plain": [
       "['my', 2, 'we', 'is', 'dakshi']"
      ]
     },
     "execution_count": 14,
     "metadata": {},
     "output_type": "execute_result"
    }
   ],
   "source": [
    "#list=[]\n",
    "list=[\"my\",\"name\",\"is\",\"dakshi\"]\n",
    "list\n",
    "print(list[3])\n",
    "list.insert(1,2)\n",
    "list[2]=\"we\"\n",
    "list"
   ]
  },
  {
   "cell_type": "code",
   "execution_count": 103,
   "metadata": {},
   "outputs": [
    {
     "name": "stdout",
     "output_type": "stream",
     "text": [
      "['my', 'name', 'is', 'dakshi', 'gupta']\n",
      "dakshi\n"
     ]
    },
    {
     "data": {
      "text/plain": [
       "['my', 2, 'name', 'is', 'a', 'gupta']"
      ]
     },
     "execution_count": 103,
     "metadata": {},
     "output_type": "execute_result"
    }
   ],
   "source": [
    "list=[\"my\",\"name\",\"is\",\"dakshi\",\"gupta\"]\n",
    "print(list)\n",
    "type(list)\n",
    "print(list[3])\n",
    "list.insert(1,2)\n",
    "list[4]=\"a\"\n",
    "list"
   ]
  },
  {
   "cell_type": "code",
   "execution_count": 16,
   "metadata": {},
   "outputs": [
    {
     "data": {
      "text/plain": [
       "['D', 'is', '20', 'years', 'old']"
      ]
     },
     "execution_count": 16,
     "metadata": {},
     "output_type": "execute_result"
    }
   ],
   "source": [
    "#in list square brackets[] are important\n",
    "lst=[\"D\",\"is\",\"20\",\"years\",\"old\"] \n",
    "lst"
   ]
  },
  {
   "cell_type": "code",
   "execution_count": 18,
   "metadata": {},
   "outputs": [
    {
     "name": "stdout",
     "output_type": "stream",
     "text": [
      "<class 'list'>\n",
      "years\n",
      "D\n"
     ]
    }
   ],
   "source": [
    "print(type(lst))\n",
    "print(lst[3])\n",
    "print(lst[0])"
   ]
  },
  {
   "cell_type": "code",
   "execution_count": 7,
   "metadata": {},
   "outputs": [
    {
     "data": {
      "text/plain": [
       "str"
      ]
     },
     "execution_count": 7,
     "metadata": {},
     "output_type": "execute_result"
    }
   ],
   "source": [
    "type(lst[3])"
   ]
  },
  {
   "cell_type": "code",
   "execution_count": 8,
   "metadata": {},
   "outputs": [],
   "source": [
    "#python list documentation\n",
    "lst.insert(1,2)"
   ]
  },
  {
   "cell_type": "code",
   "execution_count": 9,
   "metadata": {},
   "outputs": [
    {
     "data": {
      "text/plain": [
       "['D', 'a', 'is', '20', 'years', 'old']"
      ]
     },
     "execution_count": 9,
     "metadata": {},
     "output_type": "execute_result"
    }
   ],
   "source": [
    "lst[1]=\"a\"\n",
    "lst"
   ]
  },
  {
   "cell_type": "code",
   "execution_count": 20,
   "metadata": {},
   "outputs": [
    {
     "name": "stdout",
     "output_type": "stream",
     "text": [
      "['g', 'u', 'p', 't', 'a']\n"
     ]
    }
   ],
   "source": [
    "list=[]\n",
    "for a in \"gupta\":\n",
    "    list.append(a)\n",
    "print(list)"
   ]
  },
  {
   "cell_type": "code",
   "execution_count": 19,
   "metadata": {},
   "outputs": [
    {
     "name": "stdout",
     "output_type": "stream",
     "text": [
      "['d', 'a', 'k', 's', 'h', 'i']\n"
     ]
    }
   ],
   "source": [
    "list=[]\n",
    "for k in \"dakshi\":\n",
    "    list.append(k)\n",
    "print(list)"
   ]
  },
  {
   "cell_type": "code",
   "execution_count": 21,
   "metadata": {},
   "outputs": [
    {
     "name": "stdout",
     "output_type": "stream",
     "text": [
      "[16, 49, 25]\n"
     ]
    }
   ],
   "source": [
    "list=[4,7,5]\n",
    "list1=[]\n",
    "for i in list:\n",
    "    list1.append(i**2)\n",
    "print(list1)"
   ]
  },
  {
   "cell_type": "code",
   "execution_count": 12,
   "metadata": {},
   "outputs": [
    {
     "name": "stdout",
     "output_type": "stream",
     "text": [
      "[4, 36, 64]\n"
     ]
    }
   ],
   "source": [
    "lst=[2,6,8]\n",
    "lst1=[]\n",
    "for i in lst:\n",
    "    lst1.append(i**2)\n",
    "print(lst1)"
   ]
  },
  {
   "cell_type": "code",
   "execution_count": 13,
   "metadata": {},
   "outputs": [
    {
     "name": "stdout",
     "output_type": "stream",
     "text": [
      "2 4 6 8 "
     ]
    }
   ],
   "source": [
    "#list of even numbers\n",
    "lst=[1,2,3,4,5,6,7,8,9]\n",
    "for num in lst:\n",
    "    if num%2==0:\n",
    "        print(num,end=\" \")"
   ]
  },
  {
   "cell_type": "code",
   "execution_count": 33,
   "metadata": {},
   "outputs": [
    {
     "name": "stdout",
     "output_type": "stream",
     "text": [
      "3 6 9 "
     ]
    }
   ],
   "source": [
    "#list of odd numbers\n",
    "lst1=[1,2,3,4,5,6,7,8,9]\n",
    "for num in lst1:\n",
    "    if num%3==0:\n",
    "        print(num,end=\" \")"
   ]
  },
  {
   "cell_type": "code",
   "execution_count": 34,
   "metadata": {},
   "outputs": [
    {
     "name": "stdout",
     "output_type": "stream",
     "text": [
      "2 4 6 "
     ]
    }
   ],
   "source": [
    "list=[1,2,4,6,7,3,17,33]\n",
    "for num in list:\n",
    "    if num%2==0:\n",
    "        print(num,end=\" \")"
   ]
  },
  {
   "cell_type": "code",
   "execution_count": 35,
   "metadata": {},
   "outputs": [
    {
     "name": "stdout",
     "output_type": "stream",
     "text": [
      "6 3 33 "
     ]
    }
   ],
   "source": [
    "list=[1,2,4,6,7,3,17,33]\n",
    "for num in list:\n",
    "    if num%3==0:\n",
    "        print(num,end=\" \")"
   ]
  },
  {
   "cell_type": "code",
   "execution_count": null,
   "metadata": {},
   "outputs": [],
   "source": []
  }
 ],
 "metadata": {
  "kernelspec": {
   "display_name": "Python 3",
   "language": "python",
   "name": "python3"
  },
  "language_info": {
   "codemirror_mode": {
    "name": "ipython",
    "version": 3
   },
   "file_extension": ".py",
   "mimetype": "text/x-python",
   "name": "python",
   "nbconvert_exporter": "python",
   "pygments_lexer": "ipython3",
   "version": "3.8.3"
  }
 },
 "nbformat": 4,
 "nbformat_minor": 4
}
